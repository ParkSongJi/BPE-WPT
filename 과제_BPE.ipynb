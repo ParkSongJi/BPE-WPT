{
  "nbformat": 4,
  "nbformat_minor": 0,
  "metadata": {
    "colab": {
      "provenance": [],
      "include_colab_link": true
    },
    "kernelspec": {
      "name": "python3",
      "display_name": "Python 3"
    },
    "language_info": {
      "name": "python"
    }
  },
  "cells": [
    {
      "cell_type": "markdown",
      "metadata": {
        "id": "view-in-github",
        "colab_type": "text"
      },
      "source": [
        "<a href=\"https://colab.research.google.com/github/ParkSongJi/BPE-WPT/blob/main/%EA%B3%BC%EC%A0%9C_BPE.ipynb\" target=\"_parent\"><img src=\"https://colab.research.google.com/assets/colab-badge.svg\" alt=\"Open In Colab\"/></a>"
      ]
    },
    {
      "cell_type": "markdown",
      "source": [
        "# 1. BPE"
      ],
      "metadata": {
        "id": "ILh4Kf5d5BpM"
      }
    },
    {
      "cell_type": "code",
      "source": [
        "# 단어 dictionary 만들기\n",
        "ori_dictionary = {\n",
        "    'low': 5,\n",
        "    'lower': 7,\n",
        "    'newest': 6,\n",
        "    'widest': 3\n",
        "}\n",
        "ori_dictionary\n"
      ],
      "metadata": {
        "colab": {
          "base_uri": "https://localhost:8080/"
        },
        "id": "u6BCDFBO46d7",
        "outputId": "23e968f6-c11b-46e8-f470-f3aa11778def"
      },
      "execution_count": null,
      "outputs": [
        {
          "output_type": "execute_result",
          "data": {
            "text/plain": [
              "{'low': 5, 'lower': 7, 'newest': 6, 'widest': 3}"
            ]
          },
          "metadata": {},
          "execution_count": 182
        }
      ]
    },
    {
      "cell_type": "markdown",
      "source": [
        "# 데이터 전처리\n",
        "# -> 단어들을 글자(chracter) 단위로 분리\n",
        "##### low    -> l o w\n",
        "##### lower  -> l o w e r\n",
        "##### newest -> n e w e s t\n",
        "##### widest -> w i d e s t"
      ],
      "metadata": {
        "id": "LyFozNX_rNd7"
      }
    },
    {
      "cell_type": "code",
      "source": [
        "dictionary = {}\n",
        "\n",
        "for words, count in ori_dictionary.items():\n",
        "  new_word = ''\n",
        "  for i in words:\n",
        "    new_word += i + ' '\n",
        "  dictionary[new_word + '-'] = count\n",
        "dictionary"
      ],
      "metadata": {
        "colab": {
          "base_uri": "https://localhost:8080/"
        },
        "id": "Z2z-GbdTQX7x",
        "outputId": "3a73e183-074d-4cc3-bfc2-137fe7318adb"
      },
      "execution_count": null,
      "outputs": [
        {
          "output_type": "execute_result",
          "data": {
            "text/plain": [
              "{'l o w -': 5, 'l o w e r -': 7, 'n e w e s t -': 6, 'w i d e s t -': 3}"
            ]
          },
          "metadata": {},
          "execution_count": 183
        }
      ]
    },
    {
      "cell_type": "markdown",
      "source": [
        "# 1회차\n",
        "### 분리된 글자를 쌍으로 조합시 횟수 확인"
      ],
      "metadata": {
        "id": "1tn3lxZURXQJ"
      }
    },
    {
      "cell_type": "code",
      "source": [
        "import collections\n",
        "import re"
      ],
      "metadata": {
        "id": "LZwmrpK5q9sD"
      },
      "execution_count": null,
      "outputs": []
    },
    {
      "cell_type": "code",
      "source": [
        "# defaultdict(int): 초기값 0으로 설정\n",
        "pairs = collections.defaultdict(int)\n",
        "\n",
        "for words, count in dictionary.items():\n",
        "  symbols = words.split()\n",
        "  for i in range(len(symbols)-1):\n",
        "     pairs[symbols[i],symbols[i+1]] += count\n",
        "print(pairs)"
      ],
      "metadata": {
        "colab": {
          "base_uri": "https://localhost:8080/"
        },
        "id": "ISx-hqBxRWeU",
        "outputId": "6c05b1f7-02a8-42a4-e249-b542760769f7"
      },
      "execution_count": null,
      "outputs": [
        {
          "output_type": "stream",
          "name": "stdout",
          "text": [
            "defaultdict(<class 'int'>, {('l', 'o'): 12, ('o', 'w'): 12, ('w', '-'): 5, ('w', 'e'): 13, ('e', 'r'): 7, ('r', '-'): 7, ('n', 'e'): 6, ('e', 'w'): 6, ('e', 's'): 9, ('s', 't'): 9, ('t', '-'): 9, ('w', 'i'): 3, ('i', 'd'): 3, ('d', 'e'): 3})\n"
          ]
        }
      ]
    },
    {
      "cell_type": "code",
      "source": [
        "# vocabulary 만들기\n",
        "vocabulary = set()\n",
        "\n",
        "for words, count in dictionary.items():\n",
        "  symbols = words.split()\n",
        "  for i in range(len(symbols)):\n",
        "    if symbols[i] == '-':\n",
        "        pass\n",
        "    else:\n",
        "        vocabulary.add(symbols[i])\n",
        "\n",
        "vocabulary"
      ],
      "metadata": {
        "colab": {
          "base_uri": "https://localhost:8080/"
        },
        "id": "vpMrH2WdSPWR",
        "outputId": "a22093e4-dd51-42ab-b150-13e21494bb9f"
      },
      "execution_count": null,
      "outputs": [
        {
          "output_type": "execute_result",
          "data": {
            "text/plain": [
              "{'d', 'e', 'i', 'l', 'n', 'o', 'r', 's', 't', 'w'}"
            ]
          },
          "metadata": {},
          "execution_count": 186
        }
      ]
    },
    {
      "cell_type": "markdown",
      "source": [
        "### 빈도수 높은 횟수를 조합 확인"
      ],
      "metadata": {
        "id": "VwtH1mtdMWIr"
      }
    },
    {
      "cell_type": "code",
      "source": [
        "# 횟수 가 높은 세트 확인\n",
        "best = max(pairs, key=pairs.get)\n",
        "best"
      ],
      "metadata": {
        "colab": {
          "base_uri": "https://localhost:8080/"
        },
        "id": "OfTqc1I5Mjk4",
        "outputId": "4b16ff10-a867-4941-d34e-78d9b64d9fd3"
      },
      "execution_count": null,
      "outputs": [
        {
          "output_type": "execute_result",
          "data": {
            "text/plain": [
              "('w', 'e')"
            ]
          },
          "metadata": {},
          "execution_count": 187
        }
      ]
    },
    {
      "cell_type": "markdown",
      "source": [
        "### 조합을 dictionary에 업데이트"
      ],
      "metadata": {
        "id": "1xZfz2AoVPPB"
      }
    },
    {
      "cell_type": "code",
      "source": [
        "new_set = ' '.join(best)\n",
        "new_set"
      ],
      "metadata": {
        "colab": {
          "base_uri": "https://localhost:8080/",
          "height": 35
        },
        "id": "4YlRXPNrbnHi",
        "outputId": "54aba894-b441-4a52-9725-12ac5d105765"
      },
      "execution_count": null,
      "outputs": [
        {
          "output_type": "execute_result",
          "data": {
            "text/plain": [
              "'w e'"
            ],
            "application/vnd.google.colaboratory.intrinsic+json": {
              "type": "string"
            }
          },
          "metadata": {},
          "execution_count": 188
        }
      ]
    },
    {
      "cell_type": "code",
      "source": [
        "new_set.replace(\" \", \"\")"
      ],
      "metadata": {
        "colab": {
          "base_uri": "https://localhost:8080/",
          "height": 35
        },
        "id": "7ZB6W1hHcJZ-",
        "outputId": "9ec60b9f-a2e7-4357-cdbf-f3bfb47f8449"
      },
      "execution_count": null,
      "outputs": [
        {
          "output_type": "execute_result",
          "data": {
            "text/plain": [
              "'we'"
            ],
            "application/vnd.google.colaboratory.intrinsic+json": {
              "type": "string"
            }
          },
          "metadata": {},
          "execution_count": 189
        }
      ]
    },
    {
      "cell_type": "code",
      "source": [
        "new_dictionary = {}\n",
        "\n",
        "for word, count in dictionary.items():\n",
        "  if new_set in word:\n",
        "    new_word = word.replace(new_set, new_set.replace(\" \", \"\"))\n",
        "    new_dictionary[new_word] = dictionary[word]\n",
        "  else:\n",
        "    new_dictionary[word] = count\n",
        "new_dictionary"
      ],
      "metadata": {
        "colab": {
          "base_uri": "https://localhost:8080/"
        },
        "id": "rHIc7WDsbv0E",
        "outputId": "83dddb9c-cf76-4555-e09b-de3de44fd037"
      },
      "execution_count": null,
      "outputs": [
        {
          "output_type": "execute_result",
          "data": {
            "text/plain": [
              "{'l o w -': 5, 'l o we r -': 7, 'n e we s t -': 6, 'w i d e s t -': 3}"
            ]
          },
          "metadata": {},
          "execution_count": 190
        }
      ]
    },
    {
      "cell_type": "code",
      "source": [
        "# l o w e r -> w e -> l o we r\n",
        "# 5"
      ],
      "metadata": {
        "id": "o5xYT5P5tGH2"
      },
      "execution_count": null,
      "outputs": []
    },
    {
      "cell_type": "markdown",
      "source": [],
      "metadata": {
        "id": "R5s1WIWdtGCd"
      }
    },
    {
      "cell_type": "markdown",
      "source": [
        "# 2회차\n",
        "# 1회차랑 똑같이 진행"
      ],
      "metadata": {
        "id": "Eit0nYOxXiT1"
      }
    },
    {
      "cell_type": "code",
      "source": [
        "dictionary = new_dictionary\n",
        "\n",
        "pairs = collections.defaultdict(int)\n",
        "\n",
        "for words, count in dictionary.items():\n",
        "  symbols = words.split()\n",
        "  for i in range(len(symbols)-1):\n",
        "     pairs[symbols[i],symbols[i+1]] += count\n",
        "print(pairs)"
      ],
      "metadata": {
        "colab": {
          "base_uri": "https://localhost:8080/"
        },
        "id": "v2rFm6_bXoU6",
        "outputId": "5f3aaaaa-fb7a-4f88-e6d9-d9b24e982492"
      },
      "execution_count": null,
      "outputs": [
        {
          "output_type": "stream",
          "name": "stdout",
          "text": [
            "defaultdict(<class 'int'>, {('l', 'o'): 12, ('o', 'w'): 5, ('w', '-'): 5, ('o', 'we'): 7, ('we', 'r'): 7, ('r', '-'): 7, ('n', 'e'): 6, ('e', 'we'): 6, ('we', 's'): 6, ('s', 't'): 9, ('t', '-'): 9, ('w', 'i'): 3, ('i', 'd'): 3, ('d', 'e'): 3, ('e', 's'): 3})\n"
          ]
        }
      ]
    },
    {
      "cell_type": "code",
      "source": [
        "for words, count in dictionary.items():\n",
        "  symbols = words.split()\n",
        "  for i in range(len(symbols)):\n",
        "    if symbols[i] == '-':\n",
        "        pass\n",
        "    else:\n",
        "        vocabulary.add(symbols[i])\n",
        "\n",
        "vocabulary"
      ],
      "metadata": {
        "colab": {
          "base_uri": "https://localhost:8080/"
        },
        "id": "TNPJ7cFqXvI5",
        "outputId": "b769b419-4871-4101-e3dd-ba06ccd15e67"
      },
      "execution_count": null,
      "outputs": [
        {
          "output_type": "execute_result",
          "data": {
            "text/plain": [
              "{'d', 'e', 'i', 'l', 'n', 'o', 'r', 's', 't', 'w', 'we'}"
            ]
          },
          "metadata": {},
          "execution_count": 193
        }
      ]
    },
    {
      "cell_type": "code",
      "source": [
        "best = max(pairs, key=pairs.get)\n",
        "best"
      ],
      "metadata": {
        "colab": {
          "base_uri": "https://localhost:8080/"
        },
        "id": "usTbeTDkv9mJ",
        "outputId": "0bed40d3-6124-4a9f-8ad9-e8571bed01b5"
      },
      "execution_count": null,
      "outputs": [
        {
          "output_type": "execute_result",
          "data": {
            "text/plain": [
              "('l', 'o')"
            ]
          },
          "metadata": {},
          "execution_count": 194
        }
      ]
    },
    {
      "cell_type": "code",
      "source": [
        "new_set = ' '.join(best)\n",
        "new_set"
      ],
      "metadata": {
        "colab": {
          "base_uri": "https://localhost:8080/",
          "height": 35
        },
        "id": "zeymC9lfv_7j",
        "outputId": "097d2581-a218-4a7f-c93c-b660b343f4ee"
      },
      "execution_count": null,
      "outputs": [
        {
          "output_type": "execute_result",
          "data": {
            "text/plain": [
              "'l o'"
            ],
            "application/vnd.google.colaboratory.intrinsic+json": {
              "type": "string"
            }
          },
          "metadata": {},
          "execution_count": 195
        }
      ]
    },
    {
      "cell_type": "code",
      "source": [
        "new_dictionary = {}\n",
        "\n",
        "for word, count in dictionary.items():\n",
        "  if new_set in word:\n",
        "    new_word = word.replace(new_set, new_set.replace(\" \", \"\"))\n",
        "    new_dictionary[new_word] = dictionary[word]\n",
        "  else:\n",
        "    new_dictionary[word] = count\n",
        "new_dictionary"
      ],
      "metadata": {
        "colab": {
          "base_uri": "https://localhost:8080/"
        },
        "id": "eYUenRuRXynN",
        "outputId": "0e537279-1fe8-4c43-d1aa-acc5285f2900"
      },
      "execution_count": null,
      "outputs": [
        {
          "output_type": "execute_result",
          "data": {
            "text/plain": [
              "{'lo w -': 5, 'lo we r -': 7, 'n e we s t -': 6, 'w i d e s t -': 3}"
            ]
          },
          "metadata": {},
          "execution_count": 196
        }
      ]
    },
    {
      "cell_type": "markdown",
      "source": [
        "# 위 순서대로 원하는 만큼 돌리고 dictionary 및 vocabulary 상시 업데이트"
      ],
      "metadata": {
        "id": "88tgkTu_YARK"
      }
    },
    {
      "cell_type": "markdown",
      "source": [
        "# BPE 알고리즘\n"
      ],
      "metadata": {
        "id": "i-E2Dnt5XaGD"
      }
    },
    {
      "cell_type": "code",
      "source": [
        "import re\n",
        "import collections\n",
        "\n",
        "def get_stats(dictionary):\n",
        "    # 유니그램의 pair들의 빈도수를 카운트\n",
        "    pairs = collections.defaultdict(int)\n",
        "    for word, freq in dictionary.items():\n",
        "        symbols = word.split()\n",
        "        for i in range(len(symbols)-1):\n",
        "            pairs[symbols[i],symbols[i+1]] += freq\n",
        "    return pairs\n",
        "\n",
        "def make_vocabulary(dictionary):\n",
        "  global vocabulary\n",
        "  for words, count in dictionary.items():\n",
        "    symbols = words.split()\n",
        "    for i in range(len(symbols)):\n",
        "        if symbols[i] == '-':\n",
        "            pass\n",
        "        else:\n",
        "            vocabulary.add(symbols[i])\n",
        "\n",
        "  return vocabulary\n",
        "\n",
        "def merge_dictionary(pair, dictionary):\n",
        "    new_dictionary = {}\n",
        "\n",
        "    for word, count in dictionary.items():\n",
        "        if pair in word:\n",
        "            new_word = word.replace(pair, pair.replace(\" \", \"\"))\n",
        "            new_dictionary[new_word] = dictionary[word]\n",
        "        else:\n",
        "            new_dictionary[word] = count\n",
        "    return new_dictionary"
      ],
      "metadata": {
        "id": "m-2OII1glNOU"
      },
      "execution_count": null,
      "outputs": []
    },
    {
      "cell_type": "code",
      "source": [
        "dictionary = {'l o w -': 5,\n",
        "         'l o w e r -': 7,\n",
        "         'n e w e s t -':6,\n",
        "         'w i d e s t -':3\n",
        "         }\n",
        "\n",
        "vocabulary = set()\n",
        "num_merges = 10\n",
        "\n",
        "for i in range(num_merges):\n",
        "    vocabulary = make_vocabulary(dictionary)\n",
        "    pairs = get_stats(dictionary)\n",
        "    best = max(pairs, key=pairs.get)\n",
        "    new_set = ' '.join(best)\n",
        "    dictionary = merge_dictionary(new_set, dictionary)\n",
        "\n",
        "    print(\"new merge: {}\".format(best))\n",
        "    print('dictionary: {}'.format(dictionary))\n",
        "    print('vocabulary: {}'.format(vocabulary))\n",
        "    print('=' * 300)"
      ],
      "metadata": {
        "colab": {
          "base_uri": "https://localhost:8080/"
        },
        "id": "fLLUbJphc-yX",
        "outputId": "c9c1dff9-e1e7-44ea-c531-45fc8296dc24"
      },
      "execution_count": null,
      "outputs": [
        {
          "output_type": "stream",
          "name": "stdout",
          "text": [
            "new merge: ('w', 'e')\n",
            "dictionary: {'l o w -': 5, 'l o we r -': 7, 'n e we s t -': 6, 'w i d e s t -': 3}\n",
            "vocabulary: {'o', 'e', 'l', 'r', 'n', 'i', 't', 'd', 's', 'w'}\n",
            "============================================================================================================================================================================================================================================================================================================\n",
            "new merge: ('l', 'o')\n",
            "dictionary: {'lo w -': 5, 'lo we r -': 7, 'n e we s t -': 6, 'w i d e s t -': 3}\n",
            "vocabulary: {'o', 'e', 'l', 'r', 'we', 'n', 'i', 't', 'd', 's', 'w'}\n",
            "============================================================================================================================================================================================================================================================================================================\n",
            "new merge: ('s', 't')\n",
            "dictionary: {'lo w -': 5, 'lo we r -': 7, 'n e we st -': 6, 'w i d e st -': 3}\n",
            "vocabulary: {'o', 'lo', 'e', 'l', 'r', 'we', 'n', 'i', 't', 'd', 's', 'w'}\n",
            "============================================================================================================================================================================================================================================================================================================\n",
            "new merge: ('st', '-')\n",
            "dictionary: {'lo w -': 5, 'lo we r -': 7, 'n e we st-': 6, 'w i d e st-': 3}\n",
            "vocabulary: {'o', 'lo', 'e', 'l', 'r', 'we', 'n', 'i', 't', 'st', 'd', 's', 'w'}\n",
            "============================================================================================================================================================================================================================================================================================================\n",
            "new merge: ('lo', 'we')\n",
            "dictionary: {'lo w -': 5, 'lowe r -': 7, 'n e we st-': 6, 'w i d e st-': 3}\n",
            "vocabulary: {'st-', 'o', 'lo', 'e', 'l', 'r', 'we', 'n', 'i', 't', 'st', 'd', 's', 'w'}\n",
            "============================================================================================================================================================================================================================================================================================================\n",
            "new merge: ('lowe', 'r')\n",
            "dictionary: {'lo w -': 5, 'lower -': 7, 'n e we st-': 6, 'w i d e st-': 3}\n",
            "vocabulary: {'st-', 'o', 'lo', 'lowe', 'e', 'l', 'r', 'we', 'n', 'i', 't', 'st', 'd', 's', 'w'}\n",
            "============================================================================================================================================================================================================================================================================================================\n",
            "new merge: ('lower', '-')\n",
            "dictionary: {'lo w -': 5, 'lower-': 7, 'n e we st-': 6, 'w i d e st-': 3}\n",
            "vocabulary: {'st-', 'o', 'lo', 'lowe', 'e', 'l', 'r', 'we', 'n', 'i', 't', 'st', 'd', 'lower', 's', 'w'}\n",
            "============================================================================================================================================================================================================================================================================================================\n",
            "new merge: ('n', 'e')\n",
            "dictionary: {'lo w -': 5, 'lower-': 7, 'ne we st-': 6, 'w i d e st-': 3}\n",
            "vocabulary: {'st-', 'o', 'lo', 'lowe', 'e', 'l', 'r', 'we', 'n', 'lower-', 'i', 't', 'st', 'd', 'lower', 's', 'w'}\n",
            "============================================================================================================================================================================================================================================================================================================\n",
            "new merge: ('ne', 'we')\n",
            "dictionary: {'lo w -': 5, 'lower-': 7, 'newe st-': 6, 'w i d e st-': 3}\n",
            "vocabulary: {'st-', 'o', 'lo', 'lowe', 'e', 'l', 'r', 'we', 'n', 'lower-', 'i', 't', 'ne', 'st', 'd', 'lower', 's', 'w'}\n",
            "============================================================================================================================================================================================================================================================================================================\n",
            "new merge: ('newe', 'st-')\n",
            "dictionary: {'lo w -': 5, 'lower-': 7, 'newest-': 6, 'w i d e st-': 3}\n",
            "vocabulary: {'e', 'n', 'lower-', 'st', 'newe', 'o', 'lowe', 't', 'st-', 'lo', 'l', 'we', 'r', 'i', 'ne', 'd', 'lower', 's', 'w'}\n",
            "============================================================================================================================================================================================================================================================================================================\n"
          ]
        }
      ]
    },
    {
      "cell_type": "code",
      "source": [],
      "metadata": {
        "id": "5dNhT27OdKvx"
      },
      "execution_count": null,
      "outputs": []
    }
  ]
}